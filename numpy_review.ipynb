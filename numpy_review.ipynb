{
  "cells": [
    {
      "cell_type": "markdown",
      "metadata": {
        "id": "PI1UlQEC3ewn"
      },
      "source": [
        "In this tutorial, we review `Mathematics` for `Machine Learning`  using `numpy` module."
      ]
    },
    {
      "cell_type": "code",
      "execution_count": null,
      "metadata": {
        "id": "Ib0z6Lsq3ewr"
      },
      "outputs": [],
      "source": [
        "#load numpy\n",
        "import numpy as np"
      ]
    },
    {
      "cell_type": "markdown",
      "metadata": {
        "id": "K9TKEyGt3ews"
      },
      "source": [
        "Q1.  In a numpy array replace all odd position numbers with 0?"
      ]
    },
    {
      "cell_type": "code",
      "execution_count": null,
      "metadata": {
        "colab": {
          "base_uri": "https://localhost:8080/"
        },
        "id": "d2GkPXow3ewt",
        "outputId": "c95972d6-b686-498c-a529-4f9fcabc94f5"
      },
      "outputs": [
        {
          "output_type": "stream",
          "name": "stdout",
          "text": [
            "[ 0  2  0  4  0  6  0  8  0 10]\n"
          ]
        }
      ],
      "source": [
        "x = np.array([1,2,3,4,5,6,7,8,9,10]) # declearing the array\n",
        "\n",
        "x[::2] = 0 # looking for odd position\n",
        "print(x)   # output"
      ]
    },
    {
      "cell_type": "markdown",
      "metadata": {
        "id": "_K1kdPJi3ewt"
      },
      "source": [
        "Q2. What is the difference between the objects np.ndarray and np.array?"
      ]
    },
    {
      "cell_type": "markdown",
      "metadata": {
        "id": "nDRwe0Hb3ewt"
      },
      "source": [
        ""
      ]
    },
    {
      "cell_type": "markdown",
      "metadata": {
        "id": "lisvTP2M3ewt"
      },
      "source": [
        "Q3. What is the difference, if any, between the following statements:"
      ]
    },
    {
      "cell_type": "code",
      "execution_count": null,
      "metadata": {
        "colab": {
          "base_uri": "https://localhost:8080/"
        },
        "id": "cN5wk0i63ewu",
        "outputId": "6d035129-475b-410a-cdf8-de5914a3d741"
      },
      "outputs": [
        {
          "output_type": "stream",
          "name": "stdout",
          "text": [
            "<class 'numpy.ndarray'>\n",
            "[0 0 0]\n",
            "<class 'numpy.ndarray'>\n"
          ]
        },
        {
          "output_type": "execute_result",
          "data": {
            "text/plain": [
              "array([[0, 0, 0]])"
            ]
          },
          "metadata": {},
          "execution_count": 19
        }
      ],
      "source": [
        "a = np.array ([0, 0, 0])\n",
        "print(type(a))\n",
        "print(a)\n",
        "a = np.array ([[0 , 0, 0]])\n",
        "print(type(a))\n",
        "a\n",
        "# Yes there is difference indeed i.e, first declread is the ONE dimentional array where as the second one is TWO dimentional array"
      ]
    },
    {
      "cell_type": "markdown",
      "metadata": {
        "id": "hccK8Qb53ewv"
      },
      "source": [
        "Q4. A 3 × 4 × 4 array is created with entries from 1 to 48 and having shape `(3,4,4)` "
      ]
    },
    {
      "cell_type": "code",
      "execution_count": null,
      "metadata": {
        "colab": {
          "base_uri": "https://localhost:8080/"
        },
        "id": "OCoo5KNh3ewv",
        "outputId": "2d8d69ce-6e61-43f9-ee4f-3ac26bd5c699"
      },
      "outputs": [
        {
          "output_type": "execute_result",
          "data": {
            "text/plain": [
              "array([[[ 1,  2,  3,  4],\n",
              "        [ 5,  6,  7,  8],\n",
              "        [ 9, 10, 11, 12],\n",
              "        [13, 14, 15, 16]],\n",
              "\n",
              "       [[17, 18, 19, 20],\n",
              "        [21, 22, 23, 24],\n",
              "        [25, 26, 27, 28],\n",
              "        [29, 30, 31, 32]],\n",
              "\n",
              "       [[33, 34, 35, 36],\n",
              "        [37, 38, 39, 40],\n",
              "        [41, 42, 43, 44],\n",
              "        [45, 46, 47, 48]]])"
            ]
          },
          "metadata": {},
          "execution_count": 33
        }
      ],
      "source": [
        "my_array = np.arange(1, 49, 1).reshape(3, 4, 4) # initially we are tasking the range and then shape of the array\n",
        "my_array"
      ]
    },
    {
      "cell_type": "markdown",
      "metadata": {
        "id": "XNS4qFb73ewv"
      },
      "source": [
        "Q5. Index or slice in above array to get the following:\n",
        "\n",
        "- 20.0\n",
        "- [9. 10. 11. 12]\n",
        "- The 3x2 array\n",
        "  \n",
        "  [[5., 6.],  \n",
        "   [21.,22.],  \n",
        "   [37., 38.]]"
      ]
    },
    {
      "cell_type": "markdown",
      "metadata": {
        "id": "rUM5EBbI3eww"
      },
      "source": [
        "Q5. How to swap two columns in a 2d numpy array?"
      ]
    },
    {
      "cell_type": "code",
      "execution_count": null,
      "metadata": {
        "colab": {
          "base_uri": "https://localhost:8080/"
        },
        "id": "mYIpIs8T3eww",
        "outputId": "63de6474-edcf-4ad7-ffe6-e9b85d9156a1"
      },
      "outputs": [
        {
          "output_type": "stream",
          "name": "stdout",
          "text": [
            "[[0 1 2]\n",
            " [3 4 5]\n",
            " [6 7 8]]\n"
          ]
        },
        {
          "output_type": "execute_result",
          "data": {
            "text/plain": [
              "array([[1, 0, 2],\n",
              "       [4, 3, 5],\n",
              "       [7, 6, 8]])"
            ]
          },
          "metadata": {},
          "execution_count": 25
        }
      ],
      "source": [
        "my_array = np.arange(9).reshape(3,3) # decleraing the np array\n",
        "print(my_array)\n",
        "my_array[:,[0, 1]] = my_array[:,[1, 0]] # swapping the preffered columns\n",
        "my_array"
      ]
    },
    {
      "cell_type": "markdown",
      "metadata": {
        "id": "kDljNu4s3eww"
      },
      "source": [
        "Q6. How to reverse the columns of a 2D array?"
      ]
    },
    {
      "cell_type": "code",
      "execution_count": null,
      "metadata": {
        "colab": {
          "base_uri": "https://localhost:8080/"
        },
        "id": "ZDYGV4KF3ewx",
        "outputId": "74281114-f0a6-4cd9-efad-1a16b128f8df"
      },
      "outputs": [
        {
          "output_type": "stream",
          "name": "stdout",
          "text": [
            "before reversing the array\n",
            " [[0 1 2]\n",
            " [3 4 5]\n",
            " [6 7 8]]\n",
            "after reversing the columns\n",
            " [[2 1 0]\n",
            " [5 4 3]\n",
            " [8 7 6]]\n"
          ]
        }
      ],
      "source": [
        "my_array = np.arange(9).reshape(3,3)\n",
        "print(\"before reversing the array\\n\",my_array)\n",
        "temp = np.fliplr(my_array) # There is a inbuilt function called fliplr that can be used to reverse the coulmns\n",
        "print(\"after reversing the columns\\n\",temp)\n"
      ]
    },
    {
      "cell_type": "markdown",
      "metadata": {
        "id": "oOnKf7ek3ewx"
      },
      "source": [
        "Q7. How to print only 3 decimal places in python numpy array?"
      ]
    },
    {
      "cell_type": "code",
      "execution_count": null,
      "metadata": {
        "colab": {
          "base_uri": "https://localhost:8080/"
        },
        "id": "fw1ykvrI3ewx",
        "outputId": "2cce1013-1ffa-4bb9-e5ec-3e5ad8b30d7a"
      },
      "outputs": [
        {
          "output_type": "stream",
          "name": "stdout",
          "text": [
            "[[0.08810175 0.38439004 0.56349579]\n",
            " [0.21878796 0.82620056 0.39735312]\n",
            " [0.69207556 0.50882209 0.7062638 ]] \n",
            "\n"
          ]
        },
        {
          "output_type": "execute_result",
          "data": {
            "text/plain": [
              "array([[0.088, 0.384, 0.563],\n",
              "       [0.219, 0.826, 0.397],\n",
              "       [0.692, 0.509, 0.706]])"
            ]
          },
          "metadata": {},
          "execution_count": 43
        }
      ],
      "source": [
        "my_array = np.random.rand(3,3)\n",
        "print(my_array,\"\\n\")\n",
        "\n",
        "np.around(my_array,3) # HEere also we have something called NPROUND  in-built function we can decised to what extent we round the given ramdom number "
      ]
    },
    {
      "cell_type": "markdown",
      "metadata": {
        "id": "mbqfwz433ewx"
      },
      "source": [
        "Q8. How to pretty print a numpy array by suppressing the scientific notation (like `1e10`)?"
      ]
    },
    {
      "cell_type": "code",
      "execution_count": null,
      "metadata": {
        "id": "G2R7VrfH3ewx"
      },
      "outputs": [],
      "source": [
        ""
      ]
    },
    {
      "cell_type": "markdown",
      "metadata": {
        "id": "ggNXjcBe3ewy"
      },
      "source": [
        "Q9.  Take any two arrays and stack them horizontally?"
      ]
    },
    {
      "cell_type": "code",
      "execution_count": null,
      "metadata": {
        "colab": {
          "base_uri": "https://localhost:8080/",
          "height": 235
        },
        "id": "hrQsZ-BW3ewy",
        "outputId": "d009dc16-7e0e-41ec-e2b3-fddebf393a7d"
      },
      "outputs": [
        {
          "output_type": "error",
          "ename": "TypeError",
          "evalue": "ignored",
          "traceback": [
            "\u001b[0;31m---------------------------------------------------------------------------\u001b[0m",
            "\u001b[0;31mTypeError\u001b[0m                                 Traceback (most recent call last)",
            "\u001b[0;32m<ipython-input-14-b64949b5666c>\u001b[0m in \u001b[0;36m<module>\u001b[0;34m()\u001b[0m\n\u001b[1;32m      1\u001b[0m \u001b[0mx\u001b[0m \u001b[0;34m=\u001b[0m \u001b[0mnp\u001b[0m\u001b[0;34m.\u001b[0m\u001b[0marray\u001b[0m\u001b[0;34m(\u001b[0m\u001b[0;34m[\u001b[0m\u001b[0;36m1\u001b[0m\u001b[0;34m,\u001b[0m\u001b[0;36m2\u001b[0m\u001b[0;34m,\u001b[0m\u001b[0;36m3\u001b[0m\u001b[0;34m,\u001b[0m\u001b[0;36m4\u001b[0m\u001b[0;34m,\u001b[0m\u001b[0;36m5\u001b[0m\u001b[0;34m]\u001b[0m\u001b[0;34m)\u001b[0m\u001b[0;34m\u001b[0m\u001b[0;34m\u001b[0m\u001b[0m\n\u001b[0;32m----> 2\u001b[0;31m \u001b[0mx\u001b[0m\u001b[0;34m.\u001b[0m\u001b[0mshape\u001b[0m\u001b[0;34m(\u001b[0m\u001b[0;34m)\u001b[0m\u001b[0;34m\u001b[0m\u001b[0;34m\u001b[0m\u001b[0m\n\u001b[0m\u001b[1;32m      3\u001b[0m \u001b[0mx\u001b[0m \u001b[0;34m=\u001b[0m \u001b[0mnp\u001b[0m\u001b[0;34m.\u001b[0m\u001b[0mstack\u001b[0m\u001b[0;34m(\u001b[0m\u001b[0;34m(\u001b[0m\u001b[0mnp\u001b[0m\u001b[0;34m.\u001b[0m\u001b[0mones\u001b[0m\u001b[0;34m(\u001b[0m\u001b[0;34m(\u001b[0m\u001b[0;36m5\u001b[0m\u001b[0;34m,\u001b[0m\u001b[0;36m1\u001b[0m\u001b[0;34m)\u001b[0m\u001b[0;34m)\u001b[0m\u001b[0;34m,\u001b[0m\u001b[0mx\u001b[0m\u001b[0;34m)\u001b[0m\u001b[0;34m,\u001b[0m\u001b[0maxis\u001b[0m \u001b[0;34m=\u001b[0m \u001b[0;36m1\u001b[0m\u001b[0;34m)\u001b[0m\u001b[0;34m\u001b[0m\u001b[0;34m\u001b[0m\u001b[0m\n\u001b[1;32m      4\u001b[0m \u001b[0;31m#my_array = np.stack((my_array1,my_array2),axis = 1)\u001b[0m\u001b[0;34m\u001b[0m\u001b[0;34m\u001b[0m\u001b[0;34m\u001b[0m\u001b[0m\n\u001b[1;32m      5\u001b[0m \u001b[0mprint\u001b[0m\u001b[0;34m(\u001b[0m\u001b[0mmy_array\u001b[0m\u001b[0;34m)\u001b[0m\u001b[0;34m\u001b[0m\u001b[0;34m\u001b[0m\u001b[0m\n",
            "\u001b[0;31mTypeError\u001b[0m: 'tuple' object is not callable"
          ]
        }
      ],
      "source": [
        "x = np.array([1,2,3,4,5])\n",
        "\n",
        "x = np.stack((np.ones((5,1)),x),axis = 1)\n",
        "#my_array = np.stack((my_array1,my_array2),axis = 1)\n",
        "print(my_array)\n"
      ]
    },
    {
      "cell_type": "markdown",
      "metadata": {
        "id": "u83TRPsF3ewy"
      },
      "source": [
        "Q10. How to get the common items between two python numpy arrays?"
      ]
    },
    {
      "cell_type": "code",
      "source": [
        "my_array1 = np.arange(1,10,1).reshape(3,3)\n",
        "print(\"\\n\",my_array1)\n",
        "my_array2 = np.arange(9).reshape(3,3)\n",
        "print(\"\\n\",my_array2)\n",
        "\n",
        "c = np.intersect1d(my_array1,my_array2) # interset1d gives the common elements between the 1d arrays and there this can be used for 2d array as well(interset2d)\n",
        "print(\"\\n\",c)"
      ],
      "metadata": {
        "colab": {
          "base_uri": "https://localhost:8080/"
        },
        "id": "IeKczmaEAP9u",
        "outputId": "9f4c2ba8-90dd-4ace-a125-bfbe3082ddf0"
      },
      "execution_count": null,
      "outputs": [
        {
          "output_type": "stream",
          "name": "stdout",
          "text": [
            "\n",
            " [[1 2 3]\n",
            " [4 5 6]\n",
            " [7 8 9]]\n",
            "\n",
            " [[0 1 2]\n",
            " [3 4 5]\n",
            " [6 7 8]]\n",
            "\n",
            " [1 2 3 4 5 6 7 8]\n"
          ]
        }
      ]
    },
    {
      "cell_type": "markdown",
      "metadata": {
        "id": "0QroIcr53ewy"
      },
      "source": [
        "Q11. How to get the positions where elements of two arrays match?"
      ]
    },
    {
      "cell_type": "code",
      "source": [
        "my_array1 = np.array([0, 1, 2, 3, 4, 5, 6])\n",
        "my_array2 = np.array([6, 5, 4, 3, 2, 1, 6])\n",
        "np.where(my_array1 == my_array2)   # where will get the indexs of the common elements in two arrrays"
      ],
      "metadata": {
        "colab": {
          "base_uri": "https://localhost:8080/"
        },
        "id": "wZCI3yJmBeIH",
        "outputId": "6b4c1068-28bd-4424-d9ce-8b6a0cf35723"
      },
      "execution_count": null,
      "outputs": [
        {
          "output_type": "execute_result",
          "data": {
            "text/plain": [
              "(array([3, 6]),)"
            ]
          },
          "metadata": {},
          "execution_count": 63
        }
      ]
    },
    {
      "cell_type": "markdown",
      "metadata": {
        "id": "npcbtIjA3ewz"
      },
      "source": [
        "Q12. How to compute the mean, median, standard deviation of a numpy array?"
      ]
    },
    {
      "cell_type": "code",
      "source": [
        "my_array = np.random.rand(3,3)\n",
        "print(my_array)                                       # we have direct functions to this job\n",
        "print(\"\\n mean...\",my_array.mean())                   # mean\n",
        "print(\"\\n median...\", np.median(my_array))            # medien\n",
        "print(\"\\n standard deviation..\", my_array.std())      # standard deviation"
      ],
      "metadata": {
        "colab": {
          "base_uri": "https://localhost:8080/"
        },
        "id": "Ntr4RaYmCmsn",
        "outputId": "d27f5bb4-e463-4080-d172-85e83d2d6901"
      },
      "execution_count": null,
      "outputs": [
        {
          "output_type": "stream",
          "name": "stdout",
          "text": [
            "[[0.5445504  0.00877754 0.47792094]\n",
            " [0.75542367 0.20064854 0.87347446]\n",
            " [0.51470089 0.76875904 0.31186769]]\n",
            "\n",
            " mean... 0.4951247954740617\n",
            "\n",
            " median... 0.5147008920120156\n",
            "\n",
            " standard deviation.. 0.2678587611500504\n"
          ]
        }
      ]
    },
    {
      "cell_type": "markdown",
      "metadata": {
        "id": "eE8ZCvwD3ewz"
      },
      "source": [
        "Q13.  How to normalize an array so the values range exactly between 0 and 1?"
      ]
    },
    {
      "cell_type": "code",
      "source": [
        "def NormalizeData(data):\n",
        "    return (data - np.min(data)) / (np.max(data) - np.min(data)) # the normal formula can do job for us\n",
        "\n",
        "\n",
        "my_array1 = np.arange(9).reshape(3,3)\n",
        "scaled_x = NormalizeData(my_array1)\n",
        "\n",
        "print(scaled_x)"
      ],
      "metadata": {
        "colab": {
          "base_uri": "https://localhost:8080/"
        },
        "id": "0TYakiH0Cm--",
        "outputId": "78a72c4d-cf39-4f31-b052-d293b4c60cc2"
      },
      "execution_count": null,
      "outputs": [
        {
          "output_type": "stream",
          "name": "stdout",
          "text": [
            "[[0.    0.125 0.25 ]\n",
            " [0.375 0.5   0.625]\n",
            " [0.75  0.875 1.   ]]\n"
          ]
        }
      ]
    },
    {
      "cell_type": "markdown",
      "metadata": {
        "id": "-iVYxMSs3ewz"
      },
      "source": [
        "Q14. Find the eigen-values and eigen vectors for a 3x3 matrix A?"
      ]
    },
    {
      "cell_type": "code",
      "source": [
        "my_array1 = np.arange(1,10,1).reshape(3,3)\n",
        "w, v = np.linalg.eig(my_array1)     # we are \n",
        "\n",
        "print(\"Eigen values.....\\n\",w)\n",
        "print(\"Eigen vectors.....\\n\",v)"
      ],
      "metadata": {
        "colab": {
          "base_uri": "https://localhost:8080/"
        },
        "id": "sBESRcEEFX6P",
        "outputId": "a04be411-93f6-4725-9757-befd11425104"
      },
      "execution_count": null,
      "outputs": [
        {
          "output_type": "stream",
          "name": "stdout",
          "text": [
            "Eigen values.....\n",
            " [ 1.61168440e+01 -1.11684397e+00 -1.30367773e-15]\n",
            "Eigen vectors.....\n",
            " [[-0.23197069 -0.78583024  0.40824829]\n",
            " [-0.52532209 -0.08675134 -0.81649658]\n",
            " [-0.8186735   0.61232756  0.40824829]]\n"
          ]
        }
      ]
    },
    {
      "cell_type": "markdown",
      "metadata": {
        "id": "Ov_Z27Lp3ewz"
      },
      "source": [
        "Q15. Find the $\\ell_2$ and $\\ell_4$ norms of a vector $v=(1,2,3)$?"
      ]
    },
    {
      "cell_type": "code",
      "source": [
        ""
      ],
      "metadata": {
        "id": "bAE16SWgFX33"
      },
      "execution_count": null,
      "outputs": []
    },
    {
      "cell_type": "markdown",
      "metadata": {
        "id": "aoqUzpOK3ewz"
      },
      "source": [
        "Q16. Generate a 3x3 matrix having real numbers from 0 to 10. Perform SVD and Cholensky decomposition."
      ]
    },
    {
      "cell_type": "code",
      "source": [
        ""
      ],
      "metadata": {
        "id": "Qr_ZSx96FX0v"
      },
      "execution_count": null,
      "outputs": []
    },
    {
      "cell_type": "markdown",
      "metadata": {
        "id": "NjCLGGj43ewz"
      },
      "source": [
        "Q16. Generate a 5x3 matrix $X$ having intergers from the set $\\{1,2,3,...,50\\}.$ Compute the following:\n",
        "- $X^TX$\n",
        "- rank of $X^TX$\n",
        "- the projection of the vector $y=(1,0,1)$ on the column space of $X.$ "
      ]
    },
    {
      "cell_type": "code",
      "source": [
        ""
      ],
      "metadata": {
        "id": "tjVcsF34FXvo"
      },
      "execution_count": null,
      "outputs": []
    },
    {
      "cell_type": "markdown",
      "metadata": {
        "id": "6CvAjwyc3ew0"
      },
      "source": [
        "Q17. Write a function `is_orthogonal`$(v1,v2, tol),$ where $v1$ and $v2$ are column vectors of the same size and $tol$ is a scalar value strictly larger than 0. The output should be 1 if the angle between $v1$ and $v2$ is within $tol$ of $\\pi/2;$  and 0 otherwise. You may assume that $v1$ and $v2$ are column vectors of the same size, and that $tol$ is a positive scalar."
      ]
    },
    {
      "cell_type": "markdown",
      "metadata": {
        "id": "UNHchwK73ew0"
      },
      "source": [
        "Q18. Find the projection of $a=(4,5,6)$ on the vector $b=(7,8,9)$?"
      ]
    },
    {
      "cell_type": "markdown",
      "metadata": {
        "id": "IXNLvLpz3ew0"
      },
      "source": [
        "Q19. Find the `inner product` and  `outer product` of $a=(4,5,6)$ and $b=(7,8,9)$?"
      ]
    },
    {
      "cell_type": "markdown",
      "metadata": {
        "id": "qYE8RrVo3ew0"
      },
      "source": [
        "Q20. "
      ]
    }
  ],
  "metadata": {
    "kernelspec": {
      "display_name": "Python 3.9.5 64-bit",
      "language": "python",
      "name": "python3"
    },
    "language_info": {
      "codemirror_mode": {
        "name": "ipython",
        "version": 3
      },
      "file_extension": ".py",
      "mimetype": "text/x-python",
      "name": "python",
      "nbconvert_exporter": "python",
      "pygments_lexer": "ipython3",
      "version": "3.9.5"
    },
    "orig_nbformat": 4,
    "vscode": {
      "interpreter": {
        "hash": "0c3475d628a6e1891247424f441d1061dae8f5ba2fe4a38277c605d30418b22f"
      }
    },
    "colab": {
      "name": "numpy_review.ipynb",
      "provenance": [],
      "collapsed_sections": []
    },
    "accelerator": "GPU",
    "gpuClass": "standard"
  },
  "nbformat": 4,
  "nbformat_minor": 0
}